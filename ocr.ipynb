{
 "cells": [
  {
   "cell_type": "code",
   "execution_count": 1,
   "metadata": {},
   "outputs": [],
   "source": [
    "from PIL import Image\n",
    "import pytesseract\n",
    "import argparse\n",
    "import cv2\n",
    "import os"
   ]
  },
  {
   "cell_type": "code",
   "execution_count": 2,
   "metadata": {},
   "outputs": [
    {
     "name": "stdout",
     "output_type": "stream",
     "text": [
      "--- Start recognize text from image ---\n",
      "ig = Pegaso Tees Notified vide SRO #677\n",
      "KEP ETE ete Semets eee\n",
      "Peers Ne tart\n",
      "TARIFF CATEGORY / PARTICULARS\n",
      "\n",
      "For Sanctioned load less than § KW\n",
      "Upto 50 Units\n",
      "For Consumption exceeding 50 Units,\n",
      "11 - 400 Units,\n",
      "101 - 200 Units\n",
      "|201 - 300 Units’\n",
      "1301 - 700 Units.\n",
      "Above 700 Units\n",
      "For Sanctioned load $ KW & above\n",
      "[Time of Use\n",
      "\n",
      "[As per Authority's dacision Residential Consumers will be given tha benefit of only one previous slab\n",
      "\n",
      "Consumption exceeding S¢ units but not exceeding 200 units will charged under.the 1-100 slab,\n",
      "\n",
      "Under tariff A-1, there shall be minimum monthly custamer charge at the following rates:\n",
      "\n",
      "a} Single Phase Connections: “ Rs. 75/- per consumer par month .\n",
      "\n",
      "b] Three Phase Connections: Rs, 150/- per consumer per month, ~ aes Scer\n",
      "\n",
      "Rs/kW/M\n",
      "------ Done -------\n"
     ]
    }
   ],
   "source": [
    "import cv2\n",
    "import numpy as np\n",
    "import pytesseract\n",
    "from PIL import Image\n",
    "\n",
    "# Path of working folder on Disk\n",
    "src_path = \"F:/ocr image/kesc.jpg\"\n",
    "\n",
    "def get_string(img_path):\n",
    "    # Read image with opencv\n",
    "    img = cv2.imread(img_path)\n",
    "\n",
    "    # Convert to gray\n",
    "    img = cv2.cvtColor(img, cv2.COLOR_BGR2GRAY)\n",
    "\n",
    "    # Apply dilation and erosion to remove some noise\n",
    "    kernel = np.ones((1, 1), np.uint8)\n",
    "    img = cv2.dilate(img, kernel, iterations=1)\n",
    "    img = cv2.erode(img, kernel, iterations=1)\n",
    "\n",
    "    # Write image after removed noise\n",
    "    cv2.imwrite(src_path + \"removed_noise.png\", img)\n",
    "\n",
    "    #  Apply threshold to get image with only black and white\n",
    "    img = cv2.adaptiveThreshold(img, 255, cv2.ADAPTIVE_THRESH_GAUSSIAN_C, cv2.THRESH_BINARY, 31, 2)\n",
    "\n",
    "    # Write the image after apply opencv to do some ...\n",
    "    cv2.imwrite(src_path + \"thres.png\", img)\n",
    "\n",
    "    # Recognize text with tesseract for python\n",
    "    result = pytesseract.image_to_string(Image.open(src_path + \"thres.png\"))\n",
    "\n",
    "    # Remove template file\n",
    "    #os.remove(temp)\n",
    "\n",
    "    return result\n",
    "\n",
    "\n",
    "print('--- Start recognize text from image ---')\n",
    "print(get_string(src_path))\n",
    "print(\"------ Done -------\")"
   ]
  },
  {
   "cell_type": "code",
   "execution_count": 29,
   "metadata": {},
   "outputs": [
    {
     "name": "stdout",
     "output_type": "stream",
     "text": [
      "Enter your file name: .txtahsan\n"
     ]
    }
   ],
   "source": [
    "def main():\n",
    "    global file_name\n",
    "    file_name = input(\"Enter your file name: \")\n",
    "    new_file = open(file_name ,\"w+\")\n",
    "    new_file.write(\"My name is Shahzad Ahsan.\")\n",
    "    new_file.close()\n",
    "\n",
    "main()"
   ]
  },
  {
   "cell_type": "code",
   "execution_count": 30,
   "metadata": {},
   "outputs": [
    {
     "name": "stdout",
     "output_type": "stream",
     "text": [
      "My name is Shahzad Ahsan.\n"
     ]
    }
   ],
   "source": [
    "open_file = open(file_name, \"r\")\n",
    "contents = open_file.read()\n",
    "print(contents)"
   ]
  },
  {
   "cell_type": "code",
   "execution_count": null,
   "metadata": {},
   "outputs": [],
   "source": []
  }
 ],
 "metadata": {
  "kernelspec": {
   "display_name": "Python 3",
   "language": "python",
   "name": "python3"
  },
  "language_info": {
   "codemirror_mode": {
    "name": "ipython",
    "version": 3
   },
   "file_extension": ".py",
   "mimetype": "text/x-python",
   "name": "python",
   "nbconvert_exporter": "python",
   "pygments_lexer": "ipython3",
   "version": "3.6.4"
  }
 },
 "nbformat": 4,
 "nbformat_minor": 2
}
